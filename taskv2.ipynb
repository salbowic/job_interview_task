{
 "cells": [
  {
   "cell_type": "markdown",
   "metadata": {},
   "source": [
    "Create a an LLM pipeline that will transform any free text query into a SQL query, the key points of this task are:\n",
    "\n",
    "* Create a valid representation of SQL tables allowing for semantic search that will match the top results to the given free text query\n",
    "\n",
    "* Based on the table representation the LLM has to create a real SQL query, based on free text user query, that will allow for immediate usage\n",
    "\n",
    "* LLM has to support creation of queries with different levels of complexity not only the simplest ones\n",
    "\n",
    "* LLM has to support creating queries to fetch data from different database schemas\n",
    "\n",
    "* When an error in LLM created sql query is encountered it should attempt to self correct"
   ]
  },
  {
   "cell_type": "code",
   "execution_count": 20,
   "metadata": {},
   "outputs": [],
   "source": [
    "from langchain.llms import LlamaCpp\n",
    "from langchain.prompts import PromptTemplate\n",
    "import sqlparse\n",
    "import subprocess\n",
    "import csv"
   ]
  },
  {
   "cell_type": "code",
   "execution_count": 21,
   "metadata": {},
   "outputs": [
    {
     "name": "stderr",
     "output_type": "stream",
     "text": [
      "llama_model_loader: loaded meta data with 19 key-value pairs and 485 tensors from sqlcoder2-GGUF\\sqlcoder2.Q8_0.gguf (version GGUF V2)\n",
      "llama_model_loader: Dumping metadata keys/values. Note: KV overrides do not apply in this output.\n",
      "llama_model_loader: - kv   0:                       general.architecture str              = starcoder\n",
      "llama_model_loader: - kv   1:                               general.name str              = StarCoder\n",
      "llama_model_loader: - kv   2:                   starcoder.context_length u32              = 8192\n",
      "llama_model_loader: - kv   3:                 starcoder.embedding_length u32              = 6144\n",
      "llama_model_loader: - kv   4:              starcoder.feed_forward_length u32              = 24576\n",
      "llama_model_loader: - kv   5:                      starcoder.block_count u32              = 40\n",
      "llama_model_loader: - kv   6:             starcoder.attention.head_count u32              = 48\n",
      "llama_model_loader: - kv   7:          starcoder.attention.head_count_kv u32              = 1\n",
      "llama_model_loader: - kv   8:     starcoder.attention.layer_norm_epsilon f32              = 0.000010\n",
      "llama_model_loader: - kv   9:                          general.file_type u32              = 7\n",
      "llama_model_loader: - kv  10:                       tokenizer.ggml.model str              = gpt2\n"
     ]
    },
    {
     "name": "stderr",
     "output_type": "stream",
     "text": [
      "llama_model_loader: - kv  11:                      tokenizer.ggml.tokens arr[str,49152]   = [\"<|endoftext|>\", \"<fim_prefix>\", \"<f...\n",
      "llama_model_loader: - kv  12:                      tokenizer.ggml.scores arr[f32,49152]   = [0.000000, 0.000000, 0.000000, 0.0000...\n",
      "llama_model_loader: - kv  13:                  tokenizer.ggml.token_type arr[i32,49152]   = [1, 1, 1, 1, 1, 1, 1, 1, 1, 1, 1, 1, ...\n",
      "llama_model_loader: - kv  14:                      tokenizer.ggml.merges arr[str,48891]   = [\"Ġ Ġ\", \"ĠĠ ĠĠ\", \"ĠĠĠĠ ĠĠ...\n",
      "llama_model_loader: - kv  15:                tokenizer.ggml.bos_token_id u32              = 0\n",
      "llama_model_loader: - kv  16:                tokenizer.ggml.eos_token_id u32              = 0\n",
      "llama_model_loader: - kv  17:            tokenizer.ggml.unknown_token_id u32              = 0\n",
      "llama_model_loader: - kv  18:               general.quantization_version u32              = 2\n",
      "llama_model_loader: - type  f32:  322 tensors\n",
      "llama_model_loader: - type q8_0:  163 tensors\n",
      "llm_load_vocab: missing pre-tokenizer type, using: 'default'\n",
      "llm_load_vocab:                                             \n",
      "llm_load_vocab: ************************************        \n",
      "llm_load_vocab: GENERATION QUALITY WILL BE DEGRADED!        \n",
      "llm_load_vocab: CONSIDER REGENERATING THE MODEL             \n",
      "llm_load_vocab: ************************************        \n",
      "llm_load_vocab:                                             \n",
      "llm_load_vocab: mismatch in special tokens definition ( 19/49152 vs 0/49152 ).\n",
      "llm_load_print_meta: format           = GGUF V2\n",
      "llm_load_print_meta: arch             = starcoder\n",
      "llm_load_print_meta: vocab type       = BPE\n",
      "llm_load_print_meta: n_vocab          = 49152\n",
      "llm_load_print_meta: n_merges         = 48891\n",
      "llm_load_print_meta: n_ctx_train      = 8192\n",
      "llm_load_print_meta: n_embd           = 6144\n",
      "llm_load_print_meta: n_head           = 48\n",
      "llm_load_print_meta: n_head_kv        = 1\n",
      "llm_load_print_meta: n_layer          = 40\n",
      "llm_load_print_meta: n_rot            = 128\n",
      "llm_load_print_meta: n_embd_head_k    = 128\n",
      "llm_load_print_meta: n_embd_head_v    = 128\n",
      "llm_load_print_meta: n_gqa            = 48\n",
      "llm_load_print_meta: n_embd_k_gqa     = 128\n",
      "llm_load_print_meta: n_embd_v_gqa     = 128\n",
      "llm_load_print_meta: f_norm_eps       = 1.0e-05\n",
      "llm_load_print_meta: f_norm_rms_eps   = 0.0e+00\n",
      "llm_load_print_meta: f_clamp_kqv      = 0.0e+00\n",
      "llm_load_print_meta: f_max_alibi_bias = 0.0e+00\n",
      "llm_load_print_meta: f_logit_scale    = 0.0e+00\n",
      "llm_load_print_meta: n_ff             = 24576\n",
      "llm_load_print_meta: n_expert         = 0\n",
      "llm_load_print_meta: n_expert_used    = 0\n",
      "llm_load_print_meta: causal attn      = 1\n",
      "llm_load_print_meta: pooling type     = 0\n",
      "llm_load_print_meta: rope type        = 0\n",
      "llm_load_print_meta: rope scaling     = linear\n",
      "llm_load_print_meta: freq_base_train  = 10000.0\n",
      "llm_load_print_meta: freq_scale_train = 1\n",
      "llm_load_print_meta: n_yarn_orig_ctx  = 8192\n",
      "llm_load_print_meta: rope_finetuned   = unknown\n",
      "llm_load_print_meta: ssm_d_conv       = 0\n",
      "llm_load_print_meta: ssm_d_inner      = 0\n",
      "llm_load_print_meta: ssm_d_state      = 0\n",
      "llm_load_print_meta: ssm_dt_rank      = 0\n",
      "llm_load_print_meta: model type       = 15B\n",
      "llm_load_print_meta: model ftype      = Q8_0\n",
      "llm_load_print_meta: model params     = 15.82 B\n",
      "llm_load_print_meta: model size       = 15.66 GiB (8.50 BPW) \n",
      "llm_load_print_meta: general.name     = StarCoder\n",
      "llm_load_print_meta: BOS token        = 0 '<|endoftext|>'\n",
      "llm_load_print_meta: EOS token        = 0 '<|endoftext|>'\n",
      "llm_load_print_meta: UNK token        = 0 '<|endoftext|>'\n",
      "llm_load_print_meta: LF token         = 145 'Ä'\n",
      "llm_load_print_meta: EOT token        = 0 '<|endoftext|>'\n",
      "llm_load_tensors: ggml ctx size =    0.23 MiB\n",
      "llm_load_tensors: offloading 30 repeating layers to GPU\n",
      "llm_load_tensors: offloaded 30/41 layers to GPU\n",
      "llm_load_tensors:        CPU buffer size = 16037.15 MiB\n",
      "...................................................................................................\n",
      "llama_new_context_with_model: n_ctx      = 2048\n",
      "llama_new_context_with_model: n_batch    = 512\n",
      "llama_new_context_with_model: n_ubatch   = 512\n",
      "llama_new_context_with_model: flash_attn = 0\n",
      "llama_new_context_with_model: freq_base  = 10000.0\n",
      "llama_new_context_with_model: freq_scale = 1\n",
      "llama_kv_cache_init:  CUDA_Host KV buffer size =    40.00 MiB\n",
      "llama_new_context_with_model: KV self size  =   40.00 MiB, K (f16):   20.00 MiB, V (f16):   20.00 MiB\n",
      "llama_new_context_with_model:  CUDA_Host  output buffer size =     0.19 MiB\n",
      "llama_new_context_with_model:      CUDA0 compute buffer size =   426.00 MiB\n",
      "llama_new_context_with_model:  CUDA_Host compute buffer size =    28.01 MiB\n",
      "llama_new_context_with_model: graph nodes  = 1489\n",
      "llama_new_context_with_model: graph splits = 565\n",
      "AVX = 1 | AVX_VNNI = 0 | AVX2 = 1 | AVX512 = 0 | AVX512_VBMI = 0 | AVX512_VNNI = 0 | AVX512_BF16 = 0 | FMA = 1 | NEON = 0 | ARM_FMA = 0 | F16C = 1 | FP16_VA = 0 | WASM_SIMD = 0 | BLAS = 1 | SSE3 = 1 | SSSE3 = 1 | VSX = 0 | MATMUL_INT8 = 0 | LLAMAFILE = 1 | \n",
      "Model metadata: {'general.name': 'StarCoder', 'general.architecture': 'starcoder', 'starcoder.context_length': '8192', 'starcoder.attention.head_count_kv': '1', 'starcoder.embedding_length': '6144', 'starcoder.feed_forward_length': '24576', 'starcoder.block_count': '40', 'starcoder.attention.head_count': '48', 'starcoder.attention.layer_norm_epsilon': '0.000010', 'tokenizer.ggml.eos_token_id': '0', 'general.file_type': '7', 'tokenizer.ggml.model': 'gpt2', 'general.quantization_version': '2', 'tokenizer.ggml.bos_token_id': '0', 'tokenizer.ggml.unknown_token_id': '0'}\n",
      "Using fallback chat format: llama-2\n"
     ]
    }
   ],
   "source": [
    "llm = LlamaCpp(model_path=\"sqlcoder2-GGUF\\sqlcoder2.Q8_0.gguf\",\n",
    "               n_batch=512,\n",
    "               n_ctx=2048,\n",
    "               n_gpu_layers=30,\n",
    "               verbose=True)"
   ]
  },
  {
   "cell_type": "code",
   "execution_count": 23,
   "metadata": {},
   "outputs": [],
   "source": [
    "generation_template = \"\"\"\n",
    "<|begin_of_text|><|start_header_id|>user<|end_header_id|>\n",
    "\n",
    "Generate a SQL query to answer this question: `{user_question}`\n",
    "If the question does not match any existing tables or columns, return the word 'error' without generating a SQL query.\n",
    "\n",
    "DDL statements:\n",
    "{ddl_statements}<|eot_id|><|start_header_id|>assistant<|end_header_id|>\n",
    "\n",
    "The following SQL query best answers the question `{user_question}`:\n",
    "\"\"\""
   ]
  },
  {
   "cell_type": "code",
   "execution_count": 24,
   "metadata": {},
   "outputs": [],
   "source": [
    "verification_template = \"\"\"\n",
    "<|begin_of_text|><|start_header_id|>user<|end_header_id|>\n",
    "\n",
    "Verify if this SQL query correctly answers the question: {user_question}.\n",
    "SQL query: {sql_query}\n",
    "If yes, return the same query. If not return corrected query.\n",
    "\n",
    "DDL statements:\n",
    "{ddl_statements}<|eot_id|><|start_header_id|>assistant<|end_header_id|>\n",
    "\n",
    "The following SQL query best answers the question `{user_question}`:\n",
    "```sql\n",
    "\"\"\""
   ]
  },
  {
   "cell_type": "code",
   "execution_count": 25,
   "metadata": {},
   "outputs": [],
   "source": [
    "def is_sql_query_valid(sql_query):\n",
    "    \"\"\"\n",
    "    Checks if the SQL query is valid based on the content of the query.\n",
    "    Returns True if valid, False if an error is detected.\n",
    "    \"\"\"\n",
    "    if \"error\" in sql_query.lower():\n",
    "        return False\n",
    "\n",
    "    return True"
   ]
  },
  {
   "cell_type": "code",
   "execution_count": 26,
   "metadata": {},
   "outputs": [],
   "source": [
    "generation_prompt = PromptTemplate(template=generation_template, input_variables=[\"user_question\", \"ddl_statements\"])"
   ]
  },
  {
   "cell_type": "code",
   "execution_count": 27,
   "metadata": {},
   "outputs": [],
   "source": [
    "verification_prompt = PromptTemplate(template=verification_template, input_variables=[\"user_question\", \"sql_query\", \"ddl_statements\"])"
   ]
  },
  {
   "cell_type": "code",
   "execution_count": 28,
   "metadata": {},
   "outputs": [],
   "source": [
    "def read_ddl_from_file(file_path):\n",
    "    with open(file_path, 'r') as file:\n",
    "        ddl_statements = file.read()\n",
    "    return ddl_statements"
   ]
  },
  {
   "cell_type": "code",
   "execution_count": 29,
   "metadata": {},
   "outputs": [],
   "source": [
    "def get_sql_query_from_llm(prompt, llm, user_question, ddl_statements):\n",
    "    llm_chain = prompt | llm\n",
    "    raw_llm_answer = llm_chain.invoke({\"user_question\": user_question, \"ddl_statements\": ddl_statements})\n",
    "    return raw_llm_answer.strip()\n",
    "    "
   ]
  },
  {
   "cell_type": "code",
   "execution_count": 30,
   "metadata": {},
   "outputs": [],
   "source": [
    "def is_query_correct(sql_query):\n",
    "    \"\"\"\n",
    "    Validate and fix a SQL query using sqlfluff. Return True if the query is correct after fixing,\n",
    "    otherwise return False.\n",
    "    \"\"\"\n",
    "    # Print the original SQL query (for debugging purposes)\n",
    "    print(\"Original SQL Query:\")\n",
    "    print(sql_query)\n",
    "    print(\"\\n\")\n",
    "\n",
    "    # Write the SQL query to a temporary file\n",
    "    with open(\"temp_query.sql\", \"w\") as f:\n",
    "        f.write(sql_query)\n",
    "    \n",
    "    # Run sqlfluff fix on the temporary file\n",
    "    try:\n",
    "        fix_result = subprocess.run(\n",
    "            [\"sqlfluff\", \"fix\", \"temp_query.sql\", \"--dialect\", \"ansi\"],\n",
    "            capture_output=True,\n",
    "            text=True\n",
    "        )\n",
    "        \n",
    "        # Print the fixed SQL query (for debugging purposes)\n",
    "        with open(\"temp_query.sql\", \"r\") as f:\n",
    "            fixed_sql_query = f.read()\n",
    "\n",
    "        print(\"Fixed SQL Query:\")\n",
    "        print(fixed_sql_query)\n",
    "        print(\"\\n\")\n",
    "        \n",
    "        # Run sqlfluff lint on the fixed file\n",
    "        lint_result = subprocess.run(\n",
    "            [\"sqlfluff\", \"lint\", \"temp_query.sql\", \"--dialect\", \"ansi\"],\n",
    "            capture_output=True,\n",
    "            text=True\n",
    "        )\n",
    "        \n",
    "        if lint_result.returncode == 0:\n",
    "            # If lint passes, return True\n",
    "            return True\n",
    "        else:\n",
    "            # If lint fails, check for errors and return False\n",
    "            output_lines = lint_result.stderr.splitlines()\n",
    "            errors = [line for line in output_lines if \"error\" in line.lower()]\n",
    "            \n",
    "            if errors:\n",
    "                print(\"Errors found in the SQL query:\")\n",
    "                print(\"\\n\".join(errors))\n",
    "            \n",
    "            return False\n",
    "    \n",
    "    except Exception as e:\n",
    "        print(f\"Error running sqlfluff: {e}\")\n",
    "        return False"
   ]
  },
  {
   "cell_type": "code",
   "execution_count": 31,
   "metadata": {},
   "outputs": [],
   "source": [
    "def verify_and_correct_sql(sql_query, user_question, ddl_statements):\n",
    "    if not is_query_correct(sql_query):\n",
    "        llm_chain = verification_prompt | llm\n",
    "        raw_llm_answer = llm_chain.invoke({\"user_question\": user_question, \"sql_query\": sql_query, \"ddl_statements\": ddl_statements})\n",
    "        return raw_llm_answer.strip()\n",
    "    else:\n",
    "        return sql_query"
   ]
  },
  {
   "cell_type": "code",
   "execution_count": 32,
   "metadata": {},
   "outputs": [],
   "source": [
    "def text_to_sql_pipe(user_question, ddl_file_path=\"database.sql\"):\n",
    "    # Read the DDL statements from the .sql file\n",
    "    ddl_statements = read_ddl_from_file(ddl_file_path)\n",
    "    \n",
    "    # Generate the initial SQL query\n",
    "    sql_query = get_sql_query_from_llm(generation_prompt, llm, user_question, ddl_statements)\n",
    "    print(f\"Generated SQL Query:\\n{sql_query}\\n\")\n",
    "    \n",
    "    if is_sql_query_valid(sql_query):\n",
    "    \n",
    "        # Verify and potentially correct the SQL query\n",
    "        final_sql_query = verify_and_correct_sql(sql_query, user_question, ddl_statements)\n",
    "        print(f\"Final SQL Query After Verification and Correction:\\n{final_sql_query}\\n\")\n",
    "        \n",
    "        return final_sql_query\n",
    "    \n",
    "    else:\n",
    "        return \"The query does not match any existing tables. Please check the table names or columns and try again.\""
   ]
  },
  {
   "cell_type": "code",
   "execution_count": 33,
   "metadata": {},
   "outputs": [],
   "source": [
    "def save_queries_to_csv(queries, filename):\n",
    "    \"\"\"\n",
    "    Save the text queries and their corresponding SQL results to a CSV file.\n",
    "    \"\"\"\n",
    "    with open(filename, mode='w', newline='') as file:\n",
    "        writer = csv.writer(file, delimiter=';')\n",
    "        writer.writerow([\"Text Query\", \"Generated SQL Query\"])\n",
    "        \n",
    "        for text_query in queries:\n",
    "            # Generate SQL query from text query\n",
    "            generated_sql = text_to_sql_pipe(text_query)\n",
    "            \n",
    "            # Write the text query and the generated SQL query to the CSV\n",
    "            writer.writerow([text_query, generated_sql])\n",
    "            print(f\"Saved query: {text_query}\\nGenerated SQL:\\n{generated_sql}\\n\")"
   ]
  },
  {
   "cell_type": "code",
   "execution_count": null,
   "metadata": {},
   "outputs": [],
   "source": [
    "queries = [\n",
    "    \"Show me the names of employees and their departments.\",\n",
    "    \"What is the highest salary?\",\n",
    "    \"List all orders that were made in the last 30 days.\",\n",
    "    \"What are the total sales grouped by region?\",\n",
    "    \"List employees whose salary is greater than $50,000.\",\n",
    "    \"Get the names of customers and their lifetime value.\",\n",
    "    \"Show products where the sales quantity is above 100.\",\n",
    "    \"Which departments are managed by the employee with ID 5?\",\n",
    "    \"List all sales representatives working in the 'West' region.\",\n",
    "    \"What is the most recent sales report date?\",\n",
    "    \"Find the average salary of employees in each department.\",\n",
    "    \"List customers who have placed more than 5 orders.\",\n",
    "    \"Find the total revenue generated by each product.\",\n",
    "    \"Show the department with the highest number of employees.\",\n",
    "    \"Get the total number of sales representatives in each region.\",\n",
    "    \"Find the average lifetime value of customers grouped by region.\",\n",
    "    \"List the top 3 products with the highest revenue.\",\n",
    "    \"Find employees who have not received a salary in the last year.\",\n",
    "    \"Show the total number of orders per customer.\",\n",
    "    \"List all departments with more than one manager.\"\n",
    "]\n"
   ]
  },
  {
   "cell_type": "code",
   "execution_count": 34,
   "metadata": {},
   "outputs": [],
   "source": [
    "queries = [\n",
    "    \"How many stars are in milky way galaxy?\",\n",
    "    \"Show me the names of employees and their departments.\"\n",
    "]"
   ]
  },
  {
   "cell_type": "markdown",
   "metadata": {},
   "source": [
    "# ToDo: Add verification if sql query matches the sql tables"
   ]
  },
  {
   "cell_type": "code",
   "execution_count": 35,
   "metadata": {},
   "outputs": [
    {
     "name": "stderr",
     "output_type": "stream",
     "text": [
      "\n",
      "llama_print_timings:        load time =   38047.77 ms\n",
      "llama_print_timings:      sample time =      12.41 ms /    23 runs   (    0.54 ms per token,  1852.75 tokens per second)\n",
      "llama_print_timings: prompt eval time =   71463.93 ms /   680 tokens (  105.09 ms per token,     9.52 tokens per second)\n",
      "llama_print_timings:        eval time =  359145.51 ms /    22 runs   (16324.80 ms per token,     0.06 tokens per second)\n",
      "llama_print_timings:       total time =  433575.90 ms /   702 tokens\n"
     ]
    },
    {
     "name": "stdout",
     "output_type": "stream",
     "text": [
      "Generated SQL Query:\n",
      "SELECT COUNT(performance_id::integer) AS number_of_stars FROM analytics.product_performance;\n",
      "\n",
      "Original SQL Query:\n",
      "SELECT COUNT(performance_id::integer) AS number_of_stars FROM analytics.product_performance;\n",
      "\n",
      "\n"
     ]
    },
    {
     "ename": "KeyboardInterrupt",
     "evalue": "",
     "output_type": "error",
     "traceback": [
      "\u001b[1;31m---------------------------------------------------------------------------\u001b[0m",
      "\u001b[1;31mKeyboardInterrupt\u001b[0m                         Traceback (most recent call last)",
      "Cell \u001b[1;32mIn[35], line 2\u001b[0m\n\u001b[0;32m      1\u001b[0m csv_filename \u001b[38;5;241m=\u001b[39m \u001b[38;5;124m\"\u001b[39m\u001b[38;5;124msql_queries_results_v2.csv\u001b[39m\u001b[38;5;124m\"\u001b[39m\n\u001b[1;32m----> 2\u001b[0m \u001b[43msave_queries_to_csv\u001b[49m\u001b[43m(\u001b[49m\u001b[43mqueries\u001b[49m\u001b[43m,\u001b[49m\u001b[43m \u001b[49m\u001b[43mcsv_filename\u001b[49m\u001b[43m)\u001b[49m\n",
      "Cell \u001b[1;32mIn[33], line 11\u001b[0m, in \u001b[0;36msave_queries_to_csv\u001b[1;34m(queries, filename)\u001b[0m\n\u001b[0;32m      7\u001b[0m writer\u001b[38;5;241m.\u001b[39mwriterow([\u001b[38;5;124m\"\u001b[39m\u001b[38;5;124mText Query\u001b[39m\u001b[38;5;124m\"\u001b[39m, \u001b[38;5;124m\"\u001b[39m\u001b[38;5;124mGenerated SQL Query\u001b[39m\u001b[38;5;124m\"\u001b[39m])\n\u001b[0;32m      9\u001b[0m \u001b[38;5;28;01mfor\u001b[39;00m text_query \u001b[38;5;129;01min\u001b[39;00m queries:\n\u001b[0;32m     10\u001b[0m     \u001b[38;5;66;03m# Generate SQL query from text query\u001b[39;00m\n\u001b[1;32m---> 11\u001b[0m     generated_sql \u001b[38;5;241m=\u001b[39m \u001b[43mtext_to_sql_pipe\u001b[49m\u001b[43m(\u001b[49m\u001b[43mtext_query\u001b[49m\u001b[43m)\u001b[49m\n\u001b[0;32m     13\u001b[0m     \u001b[38;5;66;03m# Write the text query and the generated SQL query to the CSV\u001b[39;00m\n\u001b[0;32m     14\u001b[0m     writer\u001b[38;5;241m.\u001b[39mwriterow([text_query, generated_sql])\n",
      "Cell \u001b[1;32mIn[32], line 12\u001b[0m, in \u001b[0;36mtext_to_sql_pipe\u001b[1;34m(user_question, ddl_file_path)\u001b[0m\n\u001b[0;32m      7\u001b[0m \u001b[38;5;28mprint\u001b[39m(\u001b[38;5;124mf\u001b[39m\u001b[38;5;124m\"\u001b[39m\u001b[38;5;124mGenerated SQL Query:\u001b[39m\u001b[38;5;130;01m\\n\u001b[39;00m\u001b[38;5;132;01m{\u001b[39;00msql_query\u001b[38;5;132;01m}\u001b[39;00m\u001b[38;5;130;01m\\n\u001b[39;00m\u001b[38;5;124m\"\u001b[39m)\n\u001b[0;32m      9\u001b[0m \u001b[38;5;28;01mif\u001b[39;00m is_sql_query_valid(sql_query):\n\u001b[0;32m     10\u001b[0m \n\u001b[0;32m     11\u001b[0m     \u001b[38;5;66;03m# Verify and potentially correct the SQL query\u001b[39;00m\n\u001b[1;32m---> 12\u001b[0m     final_sql_query \u001b[38;5;241m=\u001b[39m \u001b[43mverify_and_correct_sql\u001b[49m\u001b[43m(\u001b[49m\u001b[43msql_query\u001b[49m\u001b[43m,\u001b[49m\u001b[43m \u001b[49m\u001b[43muser_question\u001b[49m\u001b[43m,\u001b[49m\u001b[43m \u001b[49m\u001b[43mddl_statements\u001b[49m\u001b[43m)\u001b[49m\n\u001b[0;32m     13\u001b[0m     \u001b[38;5;28mprint\u001b[39m(\u001b[38;5;124mf\u001b[39m\u001b[38;5;124m\"\u001b[39m\u001b[38;5;124mFinal SQL Query After Verification and Correction:\u001b[39m\u001b[38;5;130;01m\\n\u001b[39;00m\u001b[38;5;132;01m{\u001b[39;00mfinal_sql_query\u001b[38;5;132;01m}\u001b[39;00m\u001b[38;5;130;01m\\n\u001b[39;00m\u001b[38;5;124m\"\u001b[39m)\n\u001b[0;32m     15\u001b[0m     \u001b[38;5;28;01mreturn\u001b[39;00m final_sql_query\n",
      "Cell \u001b[1;32mIn[31], line 2\u001b[0m, in \u001b[0;36mverify_and_correct_sql\u001b[1;34m(sql_query, user_question, ddl_statements)\u001b[0m\n\u001b[0;32m      1\u001b[0m \u001b[38;5;28;01mdef\u001b[39;00m \u001b[38;5;21mverify_and_correct_sql\u001b[39m(sql_query, user_question, ddl_statements):\n\u001b[1;32m----> 2\u001b[0m     \u001b[38;5;28;01mif\u001b[39;00m \u001b[38;5;129;01mnot\u001b[39;00m \u001b[43mis_query_correct\u001b[49m\u001b[43m(\u001b[49m\u001b[43msql_query\u001b[49m\u001b[43m)\u001b[49m:\n\u001b[0;32m      3\u001b[0m         llm_chain \u001b[38;5;241m=\u001b[39m verification_prompt \u001b[38;5;241m|\u001b[39m llm\n\u001b[0;32m      4\u001b[0m         raw_llm_answer \u001b[38;5;241m=\u001b[39m llm_chain\u001b[38;5;241m.\u001b[39minvoke({\u001b[38;5;124m\"\u001b[39m\u001b[38;5;124muser_question\u001b[39m\u001b[38;5;124m\"\u001b[39m: user_question, \u001b[38;5;124m\"\u001b[39m\u001b[38;5;124msql_query\u001b[39m\u001b[38;5;124m\"\u001b[39m: sql_query, \u001b[38;5;124m\"\u001b[39m\u001b[38;5;124mddl_statements\u001b[39m\u001b[38;5;124m\"\u001b[39m: ddl_statements})\n",
      "Cell \u001b[1;32mIn[30], line 17\u001b[0m, in \u001b[0;36mis_query_correct\u001b[1;34m(sql_query)\u001b[0m\n\u001b[0;32m     15\u001b[0m \u001b[38;5;66;03m# Run sqlfluff fix on the temporary file\u001b[39;00m\n\u001b[0;32m     16\u001b[0m \u001b[38;5;28;01mtry\u001b[39;00m:\n\u001b[1;32m---> 17\u001b[0m     fix_result \u001b[38;5;241m=\u001b[39m \u001b[43msubprocess\u001b[49m\u001b[38;5;241;43m.\u001b[39;49m\u001b[43mrun\u001b[49m\u001b[43m(\u001b[49m\n\u001b[0;32m     18\u001b[0m \u001b[43m        \u001b[49m\u001b[43m[\u001b[49m\u001b[38;5;124;43m\"\u001b[39;49m\u001b[38;5;124;43msqlfluff\u001b[39;49m\u001b[38;5;124;43m\"\u001b[39;49m\u001b[43m,\u001b[49m\u001b[43m \u001b[49m\u001b[38;5;124;43m\"\u001b[39;49m\u001b[38;5;124;43mfix\u001b[39;49m\u001b[38;5;124;43m\"\u001b[39;49m\u001b[43m,\u001b[49m\u001b[43m \u001b[49m\u001b[38;5;124;43m\"\u001b[39;49m\u001b[38;5;124;43mtemp_query.sql\u001b[39;49m\u001b[38;5;124;43m\"\u001b[39;49m\u001b[43m,\u001b[49m\u001b[43m \u001b[49m\u001b[38;5;124;43m\"\u001b[39;49m\u001b[38;5;124;43m--dialect\u001b[39;49m\u001b[38;5;124;43m\"\u001b[39;49m\u001b[43m,\u001b[49m\u001b[43m \u001b[49m\u001b[38;5;124;43m\"\u001b[39;49m\u001b[38;5;124;43mansi\u001b[39;49m\u001b[38;5;124;43m\"\u001b[39;49m\u001b[43m]\u001b[49m\u001b[43m,\u001b[49m\n\u001b[0;32m     19\u001b[0m \u001b[43m        \u001b[49m\u001b[43mcapture_output\u001b[49m\u001b[38;5;241;43m=\u001b[39;49m\u001b[38;5;28;43;01mTrue\u001b[39;49;00m\u001b[43m,\u001b[49m\n\u001b[0;32m     20\u001b[0m \u001b[43m        \u001b[49m\u001b[43mtext\u001b[49m\u001b[38;5;241;43m=\u001b[39;49m\u001b[38;5;28;43;01mTrue\u001b[39;49;00m\n\u001b[0;32m     21\u001b[0m \u001b[43m    \u001b[49m\u001b[43m)\u001b[49m\n\u001b[0;32m     23\u001b[0m     \u001b[38;5;66;03m# Print the fixed SQL query (for debugging purposes)\u001b[39;00m\n\u001b[0;32m     24\u001b[0m     \u001b[38;5;28;01mwith\u001b[39;00m \u001b[38;5;28mopen\u001b[39m(\u001b[38;5;124m\"\u001b[39m\u001b[38;5;124mtemp_query.sql\u001b[39m\u001b[38;5;124m\"\u001b[39m, \u001b[38;5;124m\"\u001b[39m\u001b[38;5;124mr\u001b[39m\u001b[38;5;124m\"\u001b[39m) \u001b[38;5;28;01mas\u001b[39;00m f:\n",
      "File \u001b[1;32mp:\\Anaconda\\envs\\myenv\\Lib\\subprocess.py:550\u001b[0m, in \u001b[0;36mrun\u001b[1;34m(input, capture_output, timeout, check, *popenargs, **kwargs)\u001b[0m\n\u001b[0;32m    548\u001b[0m \u001b[38;5;28;01mwith\u001b[39;00m Popen(\u001b[38;5;241m*\u001b[39mpopenargs, \u001b[38;5;241m*\u001b[39m\u001b[38;5;241m*\u001b[39mkwargs) \u001b[38;5;28;01mas\u001b[39;00m process:\n\u001b[0;32m    549\u001b[0m     \u001b[38;5;28;01mtry\u001b[39;00m:\n\u001b[1;32m--> 550\u001b[0m         stdout, stderr \u001b[38;5;241m=\u001b[39m \u001b[43mprocess\u001b[49m\u001b[38;5;241;43m.\u001b[39;49m\u001b[43mcommunicate\u001b[49m\u001b[43m(\u001b[49m\u001b[38;5;28;43minput\u001b[39;49m\u001b[43m,\u001b[49m\u001b[43m \u001b[49m\u001b[43mtimeout\u001b[49m\u001b[38;5;241;43m=\u001b[39;49m\u001b[43mtimeout\u001b[49m\u001b[43m)\u001b[49m\n\u001b[0;32m    551\u001b[0m     \u001b[38;5;28;01mexcept\u001b[39;00m TimeoutExpired \u001b[38;5;28;01mas\u001b[39;00m exc:\n\u001b[0;32m    552\u001b[0m         process\u001b[38;5;241m.\u001b[39mkill()\n",
      "File \u001b[1;32mp:\\Anaconda\\envs\\myenv\\Lib\\subprocess.py:1209\u001b[0m, in \u001b[0;36mPopen.communicate\u001b[1;34m(self, input, timeout)\u001b[0m\n\u001b[0;32m   1206\u001b[0m     endtime \u001b[38;5;241m=\u001b[39m \u001b[38;5;28;01mNone\u001b[39;00m\n\u001b[0;32m   1208\u001b[0m \u001b[38;5;28;01mtry\u001b[39;00m:\n\u001b[1;32m-> 1209\u001b[0m     stdout, stderr \u001b[38;5;241m=\u001b[39m \u001b[38;5;28;43mself\u001b[39;49m\u001b[38;5;241;43m.\u001b[39;49m\u001b[43m_communicate\u001b[49m\u001b[43m(\u001b[49m\u001b[38;5;28;43minput\u001b[39;49m\u001b[43m,\u001b[49m\u001b[43m \u001b[49m\u001b[43mendtime\u001b[49m\u001b[43m,\u001b[49m\u001b[43m \u001b[49m\u001b[43mtimeout\u001b[49m\u001b[43m)\u001b[49m\n\u001b[0;32m   1210\u001b[0m \u001b[38;5;28;01mexcept\u001b[39;00m \u001b[38;5;167;01mKeyboardInterrupt\u001b[39;00m:\n\u001b[0;32m   1211\u001b[0m     \u001b[38;5;66;03m# https://bugs.python.org/issue25942\u001b[39;00m\n\u001b[0;32m   1212\u001b[0m     \u001b[38;5;66;03m# See the detailed comment in .wait().\u001b[39;00m\n\u001b[0;32m   1213\u001b[0m     \u001b[38;5;28;01mif\u001b[39;00m timeout \u001b[38;5;129;01mis\u001b[39;00m \u001b[38;5;129;01mnot\u001b[39;00m \u001b[38;5;28;01mNone\u001b[39;00m:\n",
      "File \u001b[1;32mp:\\Anaconda\\envs\\myenv\\Lib\\subprocess.py:1628\u001b[0m, in \u001b[0;36mPopen._communicate\u001b[1;34m(self, input, endtime, orig_timeout)\u001b[0m\n\u001b[0;32m   1624\u001b[0m \u001b[38;5;66;03m# Wait for the reader threads, or time out.  If we time out, the\u001b[39;00m\n\u001b[0;32m   1625\u001b[0m \u001b[38;5;66;03m# threads remain reading and the fds left open in case the user\u001b[39;00m\n\u001b[0;32m   1626\u001b[0m \u001b[38;5;66;03m# calls communicate again.\u001b[39;00m\n\u001b[0;32m   1627\u001b[0m \u001b[38;5;28;01mif\u001b[39;00m \u001b[38;5;28mself\u001b[39m\u001b[38;5;241m.\u001b[39mstdout \u001b[38;5;129;01mis\u001b[39;00m \u001b[38;5;129;01mnot\u001b[39;00m \u001b[38;5;28;01mNone\u001b[39;00m:\n\u001b[1;32m-> 1628\u001b[0m     \u001b[38;5;28;43mself\u001b[39;49m\u001b[38;5;241;43m.\u001b[39;49m\u001b[43mstdout_thread\u001b[49m\u001b[38;5;241;43m.\u001b[39;49m\u001b[43mjoin\u001b[49m\u001b[43m(\u001b[49m\u001b[38;5;28;43mself\u001b[39;49m\u001b[38;5;241;43m.\u001b[39;49m\u001b[43m_remaining_time\u001b[49m\u001b[43m(\u001b[49m\u001b[43mendtime\u001b[49m\u001b[43m)\u001b[49m\u001b[43m)\u001b[49m\n\u001b[0;32m   1629\u001b[0m     \u001b[38;5;28;01mif\u001b[39;00m \u001b[38;5;28mself\u001b[39m\u001b[38;5;241m.\u001b[39mstdout_thread\u001b[38;5;241m.\u001b[39mis_alive():\n\u001b[0;32m   1630\u001b[0m         \u001b[38;5;28;01mraise\u001b[39;00m TimeoutExpired(\u001b[38;5;28mself\u001b[39m\u001b[38;5;241m.\u001b[39margs, orig_timeout)\n",
      "File \u001b[1;32mp:\\Anaconda\\envs\\myenv\\Lib\\threading.py:1119\u001b[0m, in \u001b[0;36mThread.join\u001b[1;34m(self, timeout)\u001b[0m\n\u001b[0;32m   1116\u001b[0m     \u001b[38;5;28;01mraise\u001b[39;00m \u001b[38;5;167;01mRuntimeError\u001b[39;00m(\u001b[38;5;124m\"\u001b[39m\u001b[38;5;124mcannot join current thread\u001b[39m\u001b[38;5;124m\"\u001b[39m)\n\u001b[0;32m   1118\u001b[0m \u001b[38;5;28;01mif\u001b[39;00m timeout \u001b[38;5;129;01mis\u001b[39;00m \u001b[38;5;28;01mNone\u001b[39;00m:\n\u001b[1;32m-> 1119\u001b[0m     \u001b[38;5;28;43mself\u001b[39;49m\u001b[38;5;241;43m.\u001b[39;49m\u001b[43m_wait_for_tstate_lock\u001b[49m\u001b[43m(\u001b[49m\u001b[43m)\u001b[49m\n\u001b[0;32m   1120\u001b[0m \u001b[38;5;28;01melse\u001b[39;00m:\n\u001b[0;32m   1121\u001b[0m     \u001b[38;5;66;03m# the behavior of a negative timeout isn't documented, but\u001b[39;00m\n\u001b[0;32m   1122\u001b[0m     \u001b[38;5;66;03m# historically .join(timeout=x) for x<0 has acted as if timeout=0\u001b[39;00m\n\u001b[0;32m   1123\u001b[0m     \u001b[38;5;28mself\u001b[39m\u001b[38;5;241m.\u001b[39m_wait_for_tstate_lock(timeout\u001b[38;5;241m=\u001b[39m\u001b[38;5;28mmax\u001b[39m(timeout, \u001b[38;5;241m0\u001b[39m))\n",
      "File \u001b[1;32mp:\\Anaconda\\envs\\myenv\\Lib\\threading.py:1139\u001b[0m, in \u001b[0;36mThread._wait_for_tstate_lock\u001b[1;34m(self, block, timeout)\u001b[0m\n\u001b[0;32m   1136\u001b[0m     \u001b[38;5;28;01mreturn\u001b[39;00m\n\u001b[0;32m   1138\u001b[0m \u001b[38;5;28;01mtry\u001b[39;00m:\n\u001b[1;32m-> 1139\u001b[0m     \u001b[38;5;28;01mif\u001b[39;00m \u001b[43mlock\u001b[49m\u001b[38;5;241;43m.\u001b[39;49m\u001b[43macquire\u001b[49m\u001b[43m(\u001b[49m\u001b[43mblock\u001b[49m\u001b[43m,\u001b[49m\u001b[43m \u001b[49m\u001b[43mtimeout\u001b[49m\u001b[43m)\u001b[49m:\n\u001b[0;32m   1140\u001b[0m         lock\u001b[38;5;241m.\u001b[39mrelease()\n\u001b[0;32m   1141\u001b[0m         \u001b[38;5;28mself\u001b[39m\u001b[38;5;241m.\u001b[39m_stop()\n",
      "\u001b[1;31mKeyboardInterrupt\u001b[0m: "
     ]
    }
   ],
   "source": [
    "csv_filename = \"sql_queries_results_v2.csv\"\n",
    "save_queries_to_csv(queries, csv_filename)"
   ]
  }
 ],
 "metadata": {
  "kernelspec": {
   "display_name": "myenv",
   "language": "python",
   "name": "python3"
  },
  "language_info": {
   "codemirror_mode": {
    "name": "ipython",
    "version": 3
   },
   "file_extension": ".py",
   "mimetype": "text/x-python",
   "name": "python",
   "nbconvert_exporter": "python",
   "pygments_lexer": "ipython3",
   "version": "3.11.9"
  }
 },
 "nbformat": 4,
 "nbformat_minor": 2
}
