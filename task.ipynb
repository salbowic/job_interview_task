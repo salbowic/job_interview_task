{
 "cells": [
  {
   "cell_type": "markdown",
   "metadata": {},
   "source": [
    "Create a an LLM pipeline that will transform any free text query into a SQL query, the key points of this task are:\n",
    "\n",
    "* Create a valid representation of SQL tables allowing for semantic search that will match the top results to the given free text query\n",
    "\n",
    "* Based on the table representation the LLM has to create a real SQL query, based on free text user query, that will allow for immediate usage\n",
    "\n",
    "* LLM has to support creation of queries with different levels of complexity not only the simplest ones\n",
    "\n",
    "* LLM has to support creating queries to fetch data from different database schemas\n",
    "\n",
    "* When an error in LLM created sql query is encountered it should attempt to self correct"
   ]
  },
  {
   "cell_type": "code",
   "execution_count": null,
   "metadata": {},
   "outputs": [],
   "source": []
  }
 ],
 "metadata": {
  "language_info": {
   "name": "python"
  }
 },
 "nbformat": 4,
 "nbformat_minor": 2
}
